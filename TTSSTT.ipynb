{
 "cells": [
  {
   "cell_type": "code",
   "execution_count": 2,
   "id": "386eac21-8ea9-41a8-93a6-daa5dbb59ae9",
   "metadata": {},
   "outputs": [],
   "source": [
    "from tkinter import *\n",
    "from tkinter.messagebox import showinfo\n",
    "import pyttsx3\n",
    "import speech_recognition as sr"
   ]
  },
  {
   "cell_type": "code",
   "execution_count": 3,
   "id": "87cf7056-3a41-4434-bdac-c652e7931971",
   "metadata": {},
   "outputs": [],
   "source": [
    "def speak(text: str):\n",
    "    engine = pyttsx3.init()\n",
    "\n",
    "    engine.setProperty('rate', 150)\n",
    "    engine.setProperty('volume', 100)\n",
    "\n",
    "    engine.say(text)\n",
    "    engine.runAndWait()"
   ]
  },
  {
   "cell_type": "code",
   "execution_count": 4,
   "id": "d13d6dee-7fd0-472e-90b5-84925e1e1f6b",
   "metadata": {},
   "outputs": [],
   "source": [
    "def record():\n",
    "    r = sr.Recognizer()\n",
    "\n",
    "\n",
    "    with sr.Microphone() as source:\n",
    "        r.pause_threshold = 1\n",
    "        audio = r.listen(source)\n",
    "\n",
    "        try:\n",
    "            query = r.recognize_google(audio, language=\"en-IN\")\n",
    "        except Exception as e:\n",
    "            showinfo(title='Error!', message=e)\n",
    "            speak(\"I am sorry, I did not get that, could you please repeat that\")\n",
    "\n",
    "            return \"Nothing\"\n",
    "        return query"
   ]
  },
  {
   "cell_type": "code",
   "execution_count": 5,
   "id": "94a114e7-25a4-4627-afb0-9825c6de7c45",
   "metadata": {},
   "outputs": [],
   "source": [
    "def TTS():\n",
    "    tts_wn = Toplevel(root)\n",
    "    tts_wn.title('Text-to-Speech Converter')\n",
    "    tts_wn.geometry(\"400x300\")\n",
    "    tts_wn.configure(bg='Brown')\n",
    "\n",
    "    Label(tts_wn, text='Text-to-Speech Converter', font=(\"Comic Sans MS\", 18), bg='Brown', fg='white').pack(pady=10)\n",
    "\n",
    "    text = Text(tts_wn, height=8, width=40, font=(\"Arial\", 12))\n",
    "    text.pack(pady=10)\n",
    "\n",
    "    speak_btn = Button(tts_wn, text='Speak', bg='LightCoral', font=(\"Arial\", 14), command=lambda: speak(str(text.get(1.0, END))))\n",
    "    speak_btn.pack(pady=10)"
   ]
  },
  {
   "cell_type": "code",
   "execution_count": 6,
   "id": "3bad5d96-9e37-4356-91d4-e2f6e4adda4a",
   "metadata": {},
   "outputs": [],
   "source": [
    "def STT():\n",
    "    stt_wn = Toplevel(root)\n",
    "    stt_wn.title('Speech-to-Text Converter')\n",
    "    stt_wn.geometry(\"350x200\")\n",
    "    stt_wn.configure(bg='IndianRed')\n",
    "\n",
    "    Label(stt_wn, text='Speech-to-Text Converter', font=(\"Comic Sans MS\", 15), bg='IndianRed').place(x=50)\n",
    "\n",
    "    text = Text(stt_wn, font=12, height=3, width=30)\n",
    "    text.place(x=7, y=100)\n",
    "\n",
    "    record_btn = Button(stt_wn, text='Record', bg='Sienna', command=lambda: text.insert(END, record()))\n",
    "    record_btn.place(x=140, y=50)"
   ]
  },
  {
   "cell_type": "code",
   "execution_count": 7,
   "id": "8da3b810-e46b-4226-9cc4-3144d71bbc9e",
   "metadata": {},
   "outputs": [],
   "source": [
    "def instruction():\n",
    "    instructions = '''\n",
    "These are the instructions:\n",
    "1. Wait for some time because STT and TTS conversions take time.\n",
    "2. Pause for 2 seconds to end your phrase in STT conversion, because that is the pause_threshold amount.\n",
    "'''\n",
    "    showinfo(\"Instructions before beginning\", instructions)"
   ]
  },
  {
   "cell_type": "code",
   "execution_count": 8,
   "id": "268b0a9d-200f-456e-a488-a01cb9d32f3c",
   "metadata": {},
   "outputs": [],
   "source": [
    "root = Tk()\n",
    "root.title('TTS and STT Converter')\n",
    "root.geometry('450x400')\n",
    "root.resizable(0, 0)\n",
    "root.configure(bg='lightblue')"
   ]
  },
  {
   "cell_type": "code",
   "execution_count": null,
   "id": "e27c6f32-4df9-4e73-ae40-a0d027b32eb4",
   "metadata": {},
   "outputs": [],
   "source": [
    "Label(root, text='Text-To-Speech and Speech-To-Text Converter',\n",
    "      font=('Comic Sans MS', 16), bg='Salmon', wrap=True, wraplength=300).pack(pady=10)\n",
    "\n",
    "tts_btn = Button(root, text='TTS Conversion', font=('Helvetica', 16), bg='MediumPurple', command=TTS)\n",
    "tts_btn.pack(pady=20, padx=20, fill=X)\n",
    "\n",
    "stt_btn = Button(root, text='STT Conversion', font=('Helvetica', 16), bg='MediumPurple', command=STT)\n",
    "stt_btn.pack(pady=20, padx=20, fill=X)\n",
    "\n",
    "instruction_btn = Button(root, text='Instructions before starting', font=('Helvetica', 16), bg='MediumPurple',\n",
    "                         command=instruction)\n",
    "instruction_btn.pack(pady=20, padx=20, fill=X)\n",
    "\n",
    "root.update()\n",
    "root.mainloop()"
   ]
  },
  {
   "cell_type": "code",
   "execution_count": null,
   "id": "cd01becd-4d26-46ee-a2af-e4ca30beaf56",
   "metadata": {},
   "outputs": [],
   "source": []
  }
 ],
 "metadata": {
  "kernelspec": {
   "display_name": "Python 3 (ipykernel)",
   "language": "python",
   "name": "python3"
  },
  "language_info": {
   "codemirror_mode": {
    "name": "ipython",
    "version": 3
   },
   "file_extension": ".py",
   "mimetype": "text/x-python",
   "name": "python",
   "nbconvert_exporter": "python",
   "pygments_lexer": "ipython3",
   "version": "3.12.7"
  }
 },
 "nbformat": 4,
 "nbformat_minor": 5
}
